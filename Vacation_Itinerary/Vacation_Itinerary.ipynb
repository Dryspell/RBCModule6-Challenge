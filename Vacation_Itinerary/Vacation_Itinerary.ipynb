{
 "cells": [
  {
   "cell_type": "markdown",
   "metadata": {},
   "source": [
    "## Deliverable 3. Create a Travel Itinerary Map."
   ]
  },
  {
   "cell_type": "code",
   "execution_count": 1,
   "metadata": {},
   "outputs": [],
   "source": [
    "# Dependencies and Setup\n",
    "import pandas as pd\n",
    "import requests\n",
    "import gmaps\n",
    "\n",
    "# Import API key\n",
    "from config import g_key\n",
    "\n",
    "# Configure gmaps\n",
    "gmaps.configure(api_key=g_key)"
   ]
  },
  {
   "cell_type": "code",
   "execution_count": 2,
   "metadata": {
    "scrolled": true
   },
   "outputs": [
    {
     "data": {
      "text/html": [
       "<div>\n",
       "<style scoped>\n",
       "    .dataframe tbody tr th:only-of-type {\n",
       "        vertical-align: middle;\n",
       "    }\n",
       "\n",
       "    .dataframe tbody tr th {\n",
       "        vertical-align: top;\n",
       "    }\n",
       "\n",
       "    .dataframe thead th {\n",
       "        text-align: right;\n",
       "    }\n",
       "</style>\n",
       "<table border=\"1\" class=\"dataframe\">\n",
       "  <thead>\n",
       "    <tr style=\"text-align: right;\">\n",
       "      <th></th>\n",
       "      <th>City</th>\n",
       "      <th>Lat</th>\n",
       "      <th>Lng</th>\n",
       "      <th>Max Temp</th>\n",
       "      <th>Humidity</th>\n",
       "      <th>Cloudiness</th>\n",
       "      <th>Wind Speed</th>\n",
       "      <th>Country</th>\n",
       "      <th>Date</th>\n",
       "      <th>Hotel Name</th>\n",
       "      <th>Hotel Rating</th>\n",
       "    </tr>\n",
       "    <tr>\n",
       "      <th>City_ID</th>\n",
       "      <th></th>\n",
       "      <th></th>\n",
       "      <th></th>\n",
       "      <th></th>\n",
       "      <th></th>\n",
       "      <th></th>\n",
       "      <th></th>\n",
       "      <th></th>\n",
       "      <th></th>\n",
       "      <th></th>\n",
       "      <th></th>\n",
       "    </tr>\n",
       "  </thead>\n",
       "  <tbody>\n",
       "    <tr>\n",
       "      <th>0</th>\n",
       "      <td>Ixtapa</td>\n",
       "      <td>20.7000</td>\n",
       "      <td>-105.2000</td>\n",
       "      <td>75.22</td>\n",
       "      <td>89</td>\n",
       "      <td>100</td>\n",
       "      <td>5.01</td>\n",
       "      <td>MX</td>\n",
       "      <td>2022-01-19 23:50:07</td>\n",
       "      <td>Hotel Plaza Providencia</td>\n",
       "      <td>4.4</td>\n",
       "    </tr>\n",
       "    <tr>\n",
       "      <th>1</th>\n",
       "      <td>Karaton</td>\n",
       "      <td>-6.3424</td>\n",
       "      <td>106.1045</td>\n",
       "      <td>79.95</td>\n",
       "      <td>93</td>\n",
       "      <td>97</td>\n",
       "      <td>5.17</td>\n",
       "      <td>ID</td>\n",
       "      <td>2022-01-19 23:50:07</td>\n",
       "      <td>Parkir Mobil Wisata CAS Water Park</td>\n",
       "      <td>4.3</td>\n",
       "    </tr>\n",
       "    <tr>\n",
       "      <th>2</th>\n",
       "      <td>Ushuaia</td>\n",
       "      <td>-54.8000</td>\n",
       "      <td>-68.3000</td>\n",
       "      <td>53.26</td>\n",
       "      <td>58</td>\n",
       "      <td>0</td>\n",
       "      <td>17.27</td>\n",
       "      <td>AR</td>\n",
       "      <td>2022-01-19 23:45:13</td>\n",
       "      <td>Albatross Hotel</td>\n",
       "      <td>4.3</td>\n",
       "    </tr>\n",
       "    <tr>\n",
       "      <th>3</th>\n",
       "      <td>Busselton</td>\n",
       "      <td>-33.6500</td>\n",
       "      <td>115.3333</td>\n",
       "      <td>78.04</td>\n",
       "      <td>52</td>\n",
       "      <td>2</td>\n",
       "      <td>9.98</td>\n",
       "      <td>AU</td>\n",
       "      <td>2022-01-19 23:50:08</td>\n",
       "      <td>Observatory Guest House</td>\n",
       "      <td>4.5</td>\n",
       "    </tr>\n",
       "    <tr>\n",
       "      <th>4</th>\n",
       "      <td>Pacific Grove</td>\n",
       "      <td>36.6177</td>\n",
       "      <td>-121.9166</td>\n",
       "      <td>65.43</td>\n",
       "      <td>75</td>\n",
       "      <td>0</td>\n",
       "      <td>1.01</td>\n",
       "      <td>US</td>\n",
       "      <td>2022-01-19 23:50:08</td>\n",
       "      <td>Lovers Point Inn</td>\n",
       "      <td>3.7</td>\n",
       "    </tr>\n",
       "  </tbody>\n",
       "</table>\n",
       "</div>"
      ],
      "text/plain": [
       "                  City      Lat       Lng  Max Temp  Humidity  Cloudiness  \\\n",
       "City_ID                                                                     \n",
       "0               Ixtapa  20.7000 -105.2000     75.22        89         100   \n",
       "1              Karaton  -6.3424  106.1045     79.95        93          97   \n",
       "2              Ushuaia -54.8000  -68.3000     53.26        58           0   \n",
       "3            Busselton -33.6500  115.3333     78.04        52           2   \n",
       "4        Pacific Grove  36.6177 -121.9166     65.43        75           0   \n",
       "\n",
       "         Wind Speed Country                 Date  \\\n",
       "City_ID                                            \n",
       "0              5.01      MX  2022-01-19 23:50:07   \n",
       "1              5.17      ID  2022-01-19 23:50:07   \n",
       "2             17.27      AR  2022-01-19 23:45:13   \n",
       "3              9.98      AU  2022-01-19 23:50:08   \n",
       "4              1.01      US  2022-01-19 23:50:08   \n",
       "\n",
       "                                 Hotel Name  Hotel Rating  \n",
       "City_ID                                                    \n",
       "0                   Hotel Plaza Providencia           4.4  \n",
       "1        Parkir Mobil Wisata CAS Water Park           4.3  \n",
       "2                           Albatross Hotel           4.3  \n",
       "3                   Observatory Guest House           4.5  \n",
       "4                          Lovers Point Inn           3.7  "
      ]
     },
     "execution_count": 2,
     "metadata": {},
     "output_type": "execute_result"
    }
   ],
   "source": [
    "# 1. Read the WeatherPy_vacation.csv into a DataFrame.\n",
    "vacation_df = pd.read_csv(\"../Vacation_Search/WeatherPy_vacation.csv\").set_index(\"City_ID\")\n",
    "vacation_df.drop(columns=\"City_ID.1\",inplace=True)\n",
    "vacation_df.head()"
   ]
  },
  {
   "cell_type": "code",
   "execution_count": 3,
   "metadata": {
    "scrolled": false
   },
   "outputs": [
    {
     "data": {
      "text/html": [
       "<div>\n",
       "<style scoped>\n",
       "    .dataframe tbody tr th:only-of-type {\n",
       "        vertical-align: middle;\n",
       "    }\n",
       "\n",
       "    .dataframe tbody tr th {\n",
       "        vertical-align: top;\n",
       "    }\n",
       "\n",
       "    .dataframe thead th {\n",
       "        text-align: right;\n",
       "    }\n",
       "</style>\n",
       "<table border=\"1\" class=\"dataframe\">\n",
       "  <thead>\n",
       "    <tr style=\"text-align: right;\">\n",
       "      <th></th>\n",
       "      <th>City</th>\n",
       "    </tr>\n",
       "    <tr>\n",
       "      <th>Country</th>\n",
       "      <th></th>\n",
       "    </tr>\n",
       "  </thead>\n",
       "  <tbody>\n",
       "    <tr>\n",
       "      <th>RU</th>\n",
       "      <td>47</td>\n",
       "    </tr>\n",
       "    <tr>\n",
       "      <th>US</th>\n",
       "      <td>47</td>\n",
       "    </tr>\n",
       "    <tr>\n",
       "      <th>AU</th>\n",
       "      <td>38</td>\n",
       "    </tr>\n",
       "    <tr>\n",
       "      <th>BR</th>\n",
       "      <td>31</td>\n",
       "    </tr>\n",
       "    <tr>\n",
       "      <th>ID</th>\n",
       "      <td>25</td>\n",
       "    </tr>\n",
       "  </tbody>\n",
       "</table>\n",
       "</div>"
      ],
      "text/plain": [
       "         City\n",
       "Country      \n",
       "RU         47\n",
       "US         47\n",
       "AU         38\n",
       "BR         31\n",
       "ID         25"
      ]
     },
     "execution_count": 3,
     "metadata": {},
     "output_type": "execute_result"
    }
   ],
   "source": [
    "country_counts_df = vacation_df.groupby('Country').count().sort_values('City', ascending = False)[['City']]\n",
    "country_counts_df.head()"
   ]
  },
  {
   "cell_type": "code",
   "execution_count": 4,
   "metadata": {},
   "outputs": [
    {
     "data": {
      "text/plain": [
       "4"
      ]
     },
     "execution_count": 4,
     "metadata": {},
     "output_type": "execute_result"
    }
   ],
   "source": [
    "def check_hotel_count(country):\n",
    "    return country_counts_df.loc[country,:].values[0]\n",
    "check_hotel_count('GA')"
   ]
  },
  {
   "cell_type": "code",
   "execution_count": 5,
   "metadata": {},
   "outputs": [],
   "source": [
    "# 2. Using the template add the city name, the country code, the weather description and maximum temperature for the city.\n",
    "info_box_template = \"\"\"\n",
    "<dl>\n",
    "<dt>Hotel Name</dt><dd>{Hotel Name}</dd>\n",
    "<dt>Rating</dt><dd>{Hotel Rating}</dd>\n",
    "<dt>City</dt><dd>{City}</dd>\n",
    "<dt>Country</dt><dd>{Country}</dd>\n",
    "<dt>Max Temp</dt><dd>{Max Temp} °F</dd>\n",
    "</dl>\n",
    "\"\"\"\n",
    "\n",
    "# 3a. Get the data from each row and add it to the formatting template and store the data in a list.\n",
    "hotel_info = [info_box_template.format(**row) for index, row in vacation_df.iterrows()]\n",
    "\n",
    "# 3b. Get the latitude and longitude from each row and store in a new DataFrame.\n",
    "locations = vacation_df[[\"Lat\", \"Lng\"]]"
   ]
  },
  {
   "cell_type": "code",
   "execution_count": 6,
   "metadata": {},
   "outputs": [
    {
     "data": {
      "application/vnd.jupyter.widget-view+json": {
       "model_id": "751d3aa067564aecaa2f0e2b9a46262d",
       "version_major": 2,
       "version_minor": 0
      },
      "text/plain": [
       "Figure(layout=FigureLayout(height='420px'))"
      ]
     },
     "metadata": {},
     "output_type": "display_data"
    }
   ],
   "source": [
    "# 4a. Add a marker layer for each city to the map. \n",
    "locations = vacation_df[[\"Lat\", \"Lng\"]]\n",
    "max_temp = vacation_df[\"Max Temp\"]\n",
    "fig = gmaps.figure(center=(30.0, 31.0), zoom_level=1.5)\n",
    "heat_layer = gmaps.heatmap_layer(locations, weights=max_temp,dissipating=False,\n",
    "             max_intensity=300, point_radius=4)\n",
    "marker_layer = gmaps.marker_layer(locations, info_box_content=hotel_info)\n",
    "fig.add_layer(heat_layer)\n",
    "fig.add_layer(marker_layer)\n",
    "\n",
    "# 4b. Display the figure\n",
    "fig"
   ]
  },
  {
   "cell_type": "code",
   "execution_count": 7,
   "metadata": {},
   "outputs": [],
   "source": [
    "# From the map above pick 4 cities and create a vacation itinerary route to travel between the four cities. \n",
    "# 5. Create DataFrames for each city by filtering the 'vacation_df' using the loc method. \n",
    "# Hint: The starting and ending city should be the same city.\n",
    "import dataframe_image as dfi\n",
    "\n",
    "def get_random_itinerary(number, country):\n",
    "    if (country == \"\"):\n",
    "        #print(country_counts_df.loc[(country_counts_df['City_ID'] >= int(number))])\n",
    "        country = country_counts_df.loc[(country_counts_df['City'] >= int(number))].sample(1).index[0]\n",
    "        print(f\"We chose the country {country} at random for you!\")\n",
    "    \n",
    "    if (country != \"\"):\n",
    "        hotel_count = check_hotel_count(country)\n",
    "        if (hotel_count >= number):\n",
    "            temp = vacation_df.loc[(vacation_df['Country']==country)]\n",
    "            #print(temp)\n",
    "            itinerary_df = temp.sample(number)\n",
    "            dfi.export(itinerary_df, \"{country}_random_itinerary.png\")\n",
    "            return itinerary_df\n",
    "            \n",
    "        else:\n",
    "            user_input = input(f\"Sorry, we only found {hotel_count} Hotels in {country}, (y) to continue with this country, otherwise to exit\")\n",
    "            if (user_input == \"y\"):\n",
    "                get_random_itinerary(hotel_count, country)\n",
    "                return\n",
    "            else:\n",
    "                return      "
   ]
  },
  {
   "cell_type": "code",
   "execution_count": 8,
   "metadata": {},
   "outputs": [
    {
     "name": "stdout",
     "output_type": "stream",
     "text": [
      "We chose the country PF at random for you!\n"
     ]
    },
    {
     "data": {
      "text/html": [
       "<div>\n",
       "<style scoped>\n",
       "    .dataframe tbody tr th:only-of-type {\n",
       "        vertical-align: middle;\n",
       "    }\n",
       "\n",
       "    .dataframe tbody tr th {\n",
       "        vertical-align: top;\n",
       "    }\n",
       "\n",
       "    .dataframe thead th {\n",
       "        text-align: right;\n",
       "    }\n",
       "</style>\n",
       "<table border=\"1\" class=\"dataframe\">\n",
       "  <thead>\n",
       "    <tr style=\"text-align: right;\">\n",
       "      <th></th>\n",
       "      <th>City</th>\n",
       "      <th>Lat</th>\n",
       "      <th>Lng</th>\n",
       "      <th>Max Temp</th>\n",
       "      <th>Humidity</th>\n",
       "      <th>Cloudiness</th>\n",
       "      <th>Wind Speed</th>\n",
       "      <th>Country</th>\n",
       "      <th>Date</th>\n",
       "      <th>Hotel Name</th>\n",
       "      <th>Hotel Rating</th>\n",
       "    </tr>\n",
       "    <tr>\n",
       "      <th>City_ID</th>\n",
       "      <th></th>\n",
       "      <th></th>\n",
       "      <th></th>\n",
       "      <th></th>\n",
       "      <th></th>\n",
       "      <th></th>\n",
       "      <th></th>\n",
       "      <th></th>\n",
       "      <th></th>\n",
       "      <th></th>\n",
       "      <th></th>\n",
       "    </tr>\n",
       "  </thead>\n",
       "  <tbody>\n",
       "    <tr>\n",
       "      <th>24</th>\n",
       "      <td>Rikitea</td>\n",
       "      <td>-23.1203</td>\n",
       "      <td>-134.9692</td>\n",
       "      <td>76.57</td>\n",
       "      <td>77</td>\n",
       "      <td>100</td>\n",
       "      <td>7.14</td>\n",
       "      <td>PF</td>\n",
       "      <td>2022-01-19 23:50:12</td>\n",
       "      <td>People ThankYou</td>\n",
       "      <td>4.2</td>\n",
       "    </tr>\n",
       "    <tr>\n",
       "      <th>443</th>\n",
       "      <td>Fare</td>\n",
       "      <td>-16.7000</td>\n",
       "      <td>-151.0167</td>\n",
       "      <td>80.56</td>\n",
       "      <td>77</td>\n",
       "      <td>100</td>\n",
       "      <td>22.30</td>\n",
       "      <td>PF</td>\n",
       "      <td>2022-01-20 00:00:53</td>\n",
       "      <td>Maitai Lapita Village Huahine</td>\n",
       "      <td>4.5</td>\n",
       "    </tr>\n",
       "    <tr>\n",
       "      <th>167</th>\n",
       "      <td>Faanui</td>\n",
       "      <td>-16.4833</td>\n",
       "      <td>-151.7500</td>\n",
       "      <td>80.62</td>\n",
       "      <td>78</td>\n",
       "      <td>100</td>\n",
       "      <td>23.26</td>\n",
       "      <td>PF</td>\n",
       "      <td>2022-01-19 23:53:48</td>\n",
       "      <td>Bora-Bora Pearl Beach Resort &amp; Spa</td>\n",
       "      <td>4.7</td>\n",
       "    </tr>\n",
       "    <tr>\n",
       "      <th>149</th>\n",
       "      <td>Moerai</td>\n",
       "      <td>-22.4333</td>\n",
       "      <td>-151.3333</td>\n",
       "      <td>78.98</td>\n",
       "      <td>65</td>\n",
       "      <td>100</td>\n",
       "      <td>10.38</td>\n",
       "      <td>PF</td>\n",
       "      <td>2022-01-19 23:53:44</td>\n",
       "      <td>Le Manotel</td>\n",
       "      <td>3.6</td>\n",
       "    </tr>\n",
       "  </tbody>\n",
       "</table>\n",
       "</div>"
      ],
      "text/plain": [
       "            City      Lat       Lng  Max Temp  Humidity  Cloudiness  \\\n",
       "City_ID                                                               \n",
       "24       Rikitea -23.1203 -134.9692     76.57        77         100   \n",
       "443         Fare -16.7000 -151.0167     80.56        77         100   \n",
       "167       Faanui -16.4833 -151.7500     80.62        78         100   \n",
       "149       Moerai -22.4333 -151.3333     78.98        65         100   \n",
       "\n",
       "         Wind Speed Country                 Date  \\\n",
       "City_ID                                            \n",
       "24             7.14      PF  2022-01-19 23:50:12   \n",
       "443           22.30      PF  2022-01-20 00:00:53   \n",
       "167           23.26      PF  2022-01-19 23:53:48   \n",
       "149           10.38      PF  2022-01-19 23:53:44   \n",
       "\n",
       "                                 Hotel Name  Hotel Rating  \n",
       "City_ID                                                    \n",
       "24                          People ThankYou           4.2  \n",
       "443           Maitai Lapita Village Huahine           4.5  \n",
       "167      Bora-Bora Pearl Beach Resort & Spa           4.7  \n",
       "149                              Le Manotel           3.6  "
      ]
     },
     "execution_count": 8,
     "metadata": {},
     "output_type": "execute_result"
    }
   ],
   "source": [
    "# From the map above pick 4 cities and create a vacation itinerary route to travel between the four cities. \n",
    "# 5. Create DataFrames for each city by filtering the 'vacation_df' using the loc method. \n",
    "# Hint: The starting and ending city should be the same city.\n",
    "vacation = get_random_itinerary(4,\"\")\n",
    "\n",
    "vacation_start = vacation_df.iloc[0,:]\n",
    "vacation_end = vacation_df.iloc[0,:]\n",
    "vacation_stop1 = vacation_df.iloc[1,:]\n",
    "vacation_stop2 = vacation_df.iloc[2,:]\n",
    "vacation_stop3 = vacation_df.iloc[3,:]\n",
    "\n",
    "vacation"
   ]
  },
  {
   "cell_type": "code",
   "execution_count": 9,
   "metadata": {},
   "outputs": [
    {
     "name": "stdout",
     "output_type": "stream",
     "text": [
      "We chose the country BS at random for you!\n"
     ]
    },
    {
     "data": {
      "text/plain": [
       "array([[ 26.5412, -77.0636],\n",
       "       [ 26.6208, -78.2833],\n",
       "       [ 24.0333, -74.5167],\n",
       "       [ 23.1   , -74.9833]])"
      ]
     },
     "execution_count": 9,
     "metadata": {},
     "output_type": "execute_result"
    }
   ],
   "source": [
    "# 6. Get the latitude-longitude pairs as tuples from each city DataFrame using the to_numpy function and list indexing.\n",
    "def get_lat_lng(df):\n",
    "    return df[['Lat','Lng']].to_numpy()\n",
    "get_lat_lng(get_random_itinerary(4,\"\"))"
   ]
  },
  {
   "cell_type": "code",
   "execution_count": 10,
   "metadata": {
    "scrolled": true
   },
   "outputs": [],
   "source": [
    "# 7. Create a direction layer map using the start and end latitude-longitude pairs,\n",
    "# and stop1, stop2, and stop3 as the waypoints. The travel_mode should be \"DRIVING\", \"BICYCLING\", or \"WALKING\".\n",
    "import gmaps.datasets\n",
    "\n",
    "def create_directions_layer(coords, style):\n",
    "    fig = gmaps.figure()\n",
    "    \n",
    "    start = coords[0]\n",
    "    \n",
    "    if style != \"one-way\":\n",
    "        style = \"loop\"\n",
    "        end = start\n",
    "        my_directions_layer = gmaps.directions_layer(start,end, waypoints=coords[1:], travel_mode='DRIVING', show_markers=False)\n",
    "    else:\n",
    "        end = coords[-1]\n",
    "        my_directions_layer = gmaps.directions_layer(start, end, waypoints=coords[1:-1], travel_mode='DRIVING', show_markers=False)\n",
    "    \n",
    "    return my_directions_layer"
   ]
  },
  {
   "cell_type": "code",
   "execution_count": 11,
   "metadata": {},
   "outputs": [],
   "source": [
    "# 9 Using the template add city name, the country code, the weather description and maximum temperature for the city. \n",
    "def format_df_markers(df):\n",
    "    info_box_template = \"\"\"\n",
    "    <dl>\n",
    "    <dt>Hotel Name</dt><dd>{Hotel Name}</dd>\n",
    "    <dt>Rating</dt><dd>{Hotel Rating}</dd>\n",
    "    <dt>City</dt><dd>{City}</dd>\n",
    "    <dt>Country</dt><dd>{Country}</dd>\n",
    "    <dt>Max Temp</dt><dd>{Max Temp} °F</dd>\n",
    "    </dl>\n",
    "    \"\"\"\n",
    "\n",
    "    # 10a Get the data from each row and add it to the formatting template and store the data in a list.\n",
    "    formatted_data = [info_box_template.format(**row) for index, row in df.iterrows()]\n",
    "    return formatted_data\n",
    "\n",
    "    # 10b. Get the latitude and longitude from each row and store in a new DataFrame.\n",
    "def draw_itinerary(df,style):\n",
    "    locations = df[[\"Lat\", \"Lng\"]]\n",
    "    \n",
    "    hotel_info = format_df_markers(df)\n",
    "    \n",
    "    # 11a. Add a marker layer for each city to the map.\n",
    "    max_temp = df[\"Max Temp\"]\n",
    "    fig = gmaps.figure()\n",
    "    directions_layer = create_directions_layer(get_lat_lng(df),style)\n",
    "    marker_layer = gmaps.marker_layer(locations, info_box_content=hotel_info)\n",
    "    heat_layer = gmaps.heatmap_layer(locations, weights=max_temp,dissipating=False,\n",
    "                 max_intensity=300, point_radius=4)\n",
    "    fig.add_layer(directions_layer)\n",
    "    fig.add_layer(heat_layer)\n",
    "    fig.add_layer(marker_layer)    \n",
    "    \n",
    "# 11b. Display the figure\n",
    "    return fig"
   ]
  },
  {
   "cell_type": "code",
   "execution_count": 12,
   "metadata": {},
   "outputs": [
    {
     "name": "stdout",
     "output_type": "stream",
     "text": [
      "We chose the country PE at random for you!\n"
     ]
    },
    {
     "data": {
      "text/html": [
       "<div>\n",
       "<style scoped>\n",
       "    .dataframe tbody tr th:only-of-type {\n",
       "        vertical-align: middle;\n",
       "    }\n",
       "\n",
       "    .dataframe tbody tr th {\n",
       "        vertical-align: top;\n",
       "    }\n",
       "\n",
       "    .dataframe thead th {\n",
       "        text-align: right;\n",
       "    }\n",
       "</style>\n",
       "<table border=\"1\" class=\"dataframe\">\n",
       "  <thead>\n",
       "    <tr style=\"text-align: right;\">\n",
       "      <th></th>\n",
       "      <th>City</th>\n",
       "      <th>Lat</th>\n",
       "      <th>Lng</th>\n",
       "      <th>Max Temp</th>\n",
       "      <th>Humidity</th>\n",
       "      <th>Cloudiness</th>\n",
       "      <th>Wind Speed</th>\n",
       "      <th>Country</th>\n",
       "      <th>Date</th>\n",
       "      <th>Hotel Name</th>\n",
       "      <th>Hotel Rating</th>\n",
       "    </tr>\n",
       "    <tr>\n",
       "      <th>City_ID</th>\n",
       "      <th></th>\n",
       "      <th></th>\n",
       "      <th></th>\n",
       "      <th></th>\n",
       "      <th></th>\n",
       "      <th></th>\n",
       "      <th></th>\n",
       "      <th></th>\n",
       "      <th></th>\n",
       "      <th></th>\n",
       "      <th></th>\n",
       "    </tr>\n",
       "  </thead>\n",
       "  <tbody>\n",
       "    <tr>\n",
       "      <th>689</th>\n",
       "      <td>Cajaruro</td>\n",
       "      <td>-5.7364</td>\n",
       "      <td>-78.4256</td>\n",
       "      <td>77.85</td>\n",
       "      <td>76</td>\n",
       "      <td>92</td>\n",
       "      <td>3.65</td>\n",
       "      <td>PE</td>\n",
       "      <td>2022-01-20 00:06:49</td>\n",
       "      <td>Hotel Kuelap</td>\n",
       "      <td>3.9</td>\n",
       "    </tr>\n",
       "    <tr>\n",
       "      <th>318</th>\n",
       "      <td>Paita</td>\n",
       "      <td>-5.0892</td>\n",
       "      <td>-81.1144</td>\n",
       "      <td>75.76</td>\n",
       "      <td>78</td>\n",
       "      <td>98</td>\n",
       "      <td>14.20</td>\n",
       "      <td>PE</td>\n",
       "      <td>2022-01-19 23:57:23</td>\n",
       "      <td>Hotel Náutico de Paita</td>\n",
       "      <td>3.8</td>\n",
       "    </tr>\n",
       "    <tr>\n",
       "      <th>407</th>\n",
       "      <td>Huicungo</td>\n",
       "      <td>-7.2833</td>\n",
       "      <td>-76.8000</td>\n",
       "      <td>75.60</td>\n",
       "      <td>85</td>\n",
       "      <td>98</td>\n",
       "      <td>2.55</td>\n",
       "      <td>PE</td>\n",
       "      <td>2022-01-19 23:59:44</td>\n",
       "      <td>Gran Pajaten Trek</td>\n",
       "      <td>4.0</td>\n",
       "    </tr>\n",
       "    <tr>\n",
       "      <th>168</th>\n",
       "      <td>Pisco</td>\n",
       "      <td>-13.7000</td>\n",
       "      <td>-76.2167</td>\n",
       "      <td>75.25</td>\n",
       "      <td>73</td>\n",
       "      <td>0</td>\n",
       "      <td>21.85</td>\n",
       "      <td>PE</td>\n",
       "      <td>2022-01-19 23:53:48</td>\n",
       "      <td>Hotel San Isidro Oficial</td>\n",
       "      <td>4.0</td>\n",
       "    </tr>\n",
       "  </tbody>\n",
       "</table>\n",
       "</div>"
      ],
      "text/plain": [
       "             City      Lat      Lng  Max Temp  Humidity  Cloudiness  \\\n",
       "City_ID                                                               \n",
       "689      Cajaruro  -5.7364 -78.4256     77.85        76          92   \n",
       "318         Paita  -5.0892 -81.1144     75.76        78          98   \n",
       "407      Huicungo  -7.2833 -76.8000     75.60        85          98   \n",
       "168         Pisco -13.7000 -76.2167     75.25        73           0   \n",
       "\n",
       "         Wind Speed Country                 Date                Hotel Name  \\\n",
       "City_ID                                                                      \n",
       "689            3.65      PE  2022-01-20 00:06:49              Hotel Kuelap   \n",
       "318           14.20      PE  2022-01-19 23:57:23    Hotel Náutico de Paita   \n",
       "407            2.55      PE  2022-01-19 23:59:44         Gran Pajaten Trek   \n",
       "168           21.85      PE  2022-01-19 23:53:48  Hotel San Isidro Oficial   \n",
       "\n",
       "         Hotel Rating  \n",
       "City_ID                \n",
       "689               3.9  \n",
       "318               3.8  \n",
       "407               4.0  \n",
       "168               4.0  "
      ]
     },
     "execution_count": 12,
     "metadata": {},
     "output_type": "execute_result"
    }
   ],
   "source": [
    "get_random_itinerary(4,\"\")"
   ]
  },
  {
   "cell_type": "code",
   "execution_count": 13,
   "metadata": {
    "scrolled": true
   },
   "outputs": [
    {
     "name": "stdout",
     "output_type": "stream",
     "text": [
      "We chose the country CV at random for you!\n"
     ]
    },
    {
     "data": {
      "application/vnd.jupyter.widget-view+json": {
       "model_id": "4e328b19231741c0b85b109a306c7c9a",
       "version_major": 2,
       "version_minor": 0
      },
      "text/plain": [
       "Figure(layout=FigureLayout(height='420px'))"
      ]
     },
     "metadata": {},
     "output_type": "display_data"
    }
   ],
   "source": [
    "draw_itinerary(get_random_itinerary(4,\"\"),\"one-way\")"
   ]
  },
  {
   "cell_type": "code",
   "execution_count": 21,
   "metadata": {},
   "outputs": [
    {
     "data": {
      "application/vnd.jupyter.widget-view+json": {
       "model_id": "dbd7ea77ec92427a9fffd9fbb0709f7f",
       "version_major": 2,
       "version_minor": 0
      },
      "text/plain": [
       "Figure(layout=FigureLayout(height='420px'))"
      ]
     },
     "metadata": {},
     "output_type": "display_data"
    }
   ],
   "source": [
    "draw_itinerary(get_random_itinerary(6,\"US\"),\"loop\")"
   ]
  },
  {
   "cell_type": "code",
   "execution_count": 15,
   "metadata": {},
   "outputs": [],
   "source": [
    "import googlemaps\n",
    "import simplejson\n",
    "import json\n",
    "import numpy as np\n",
    "\n",
    "gdistance = googlemaps.Client(key = g_key)\n",
    "\n",
    "def get_distance_matrix(coords):\n",
    "    durations = []\n",
    "    result = gdistance.distance_matrix(coords,coords, mode='driving')\n",
    "    \n",
    "    #print(json.dumps(result, indent = 4))\n",
    "    \n",
    "    df = pd.DataFrame(index=result['origin_addresses'],\n",
    "                      columns=result['destination_addresses'])\n",
    "    \n",
    "    for i in range(len(coords)):\n",
    "        for j in range(len(coords)):\n",
    "            try:\n",
    "                #This is the duration of the travel time in seconds. Divide by 3600 for H:M:S\n",
    "                df.iloc[i,j] = result[\"rows\"][i][\"elements\"][j][\"duration\"][\"value\"]\n",
    "            except (KeyError):\n",
    "                df.iloc[i,j] = np.nan    \n",
    "    return df\n",
    "    \n",
    "    #result = gdistance.distance_matrix(origin, destination, mode='driving')[\"rows\"][0][\"elements\"][0][\"duration\"][\"value\"]  \n",
    "    #duration = duration/3600\n",
    "    #durations.append(duration)\n",
    "    \n",
    "    #return durations"
   ]
  },
  {
   "cell_type": "code",
   "execution_count": 16,
   "metadata": {},
   "outputs": [
    {
     "name": "stdout",
     "output_type": "stream",
     "text": [
      "(0, 1, 3, 2)\n",
      "Walking from node 0 to node 1 at a cost of 10, path length is now: 10\n",
      "Walking from node 1 to node 3 at a cost of 25, path length is now: 35\n",
      "Walking from node 3 to node 2 at a cost of 30, path length is now: 65\n",
      "\n"
     ]
    },
    {
     "data": {
      "text/plain": [
       "[(0, 1, 3, 2), 65]"
      ]
     },
     "execution_count": 16,
     "metadata": {},
     "output_type": "execute_result"
    }
   ],
   "source": [
    "from sys import maxsize\n",
    "from itertools import permutations\n",
    " \n",
    "# implementation of traveling Salesman Problem\n",
    "def travellingSalesmanProblem(graph, start, style):\n",
    "    if start == \"\":\n",
    "        start = 0\n",
    "        \n",
    "    # store minimum weight Hamiltonian Cycle\n",
    "    min_path = maxsize\n",
    "    path_length = 0\n",
    "    best_walk = \"\"\n",
    "    short_path = ()\n",
    "    \n",
    "    for perm in permutations(range(len(graph))):\n",
    "        if perm[0] != start:\n",
    "            continue\n",
    "        log=\"\"\n",
    "        path_length = 0\n",
    "        log +=f\"{perm}\\n\"\n",
    "        for i in perm:\n",
    "            if i != perm[-1]:\n",
    "                path_length += graph[i][perm[perm.index(i)+1]]\n",
    "                log += f\"Walking from node {i} to node {perm[perm.index(i)+1]} at a cost of {graph[i][perm[perm.index(i)+1]]}, path length is now: {path_length}\\n\"\n",
    "            elif (style == \"loop\"):\n",
    "                path_length += graph[i][perm[0]]\n",
    "                log += f\"Walking from node {i} to node {perm[0]} at a cost of {graph[i][perm[0]]}, path length is now: {path_length}\\n\"\n",
    "        # print(log)\n",
    "        if path_length < min_path:\n",
    "            min_path = path_length\n",
    "            short_path = perm\n",
    "            best_walk = log\n",
    "    print(f\"{best_walk}\")\n",
    "    return [short_path,min_path]\n",
    "\n",
    "# matrix representation of graph\n",
    "graph = [[0, 10, 15, 20], [10, 0, 35, 25],\n",
    "        [15, 35, 0, 30], [20, 25, 30, 0]]\n",
    "travellingSalesmanProblem(graph,\"\",\"\")"
   ]
  },
  {
   "cell_type": "code",
   "execution_count": 17,
   "metadata": {},
   "outputs": [
    {
     "data": {
      "text/plain": [
       "dict_keys(['taxi_rides', 'earthquakes', 'acled_africa', 'acled_africa_by_year', 'london_congestion_zone', 'nuclear_plants', 'starbucks_kfc_uk', 'gini'])"
      ]
     },
     "execution_count": 17,
     "metadata": {},
     "output_type": "execute_result"
    }
   ],
   "source": [
    "#Here are other datasets easily available from gmaps\n",
    "gmaps.datasets.list_datasets()"
   ]
  },
  {
   "cell_type": "code",
   "execution_count": 18,
   "metadata": {},
   "outputs": [],
   "source": [
    "def get_random_sorted_itinerary(number, country, style):\n",
    "    itinerary = get_random_itinerary(number,country)\n",
    "    #print(itinerary)\n",
    "    new_order = list(travellingSalesmanProblem(get_distance_matrix(get_lat_lng(itinerary)).values,\"\",style)[0])\n",
    "    #print(new_order)\n",
    "    sorted_itinerary = itinerary.copy()\n",
    "    for i in range(len(itinerary)):\n",
    "        sorted_itinerary.iloc[i,:] = itinerary.iloc[new_order[i],:]\n",
    "    #print(sorted_itinerary)\n",
    "    #return sorted_itinerary\n",
    "    return draw_itinerary(itinerary,style);"
   ]
  },
  {
   "cell_type": "code",
   "execution_count": 22,
   "metadata": {
    "scrolled": false
   },
   "outputs": [
    {
     "name": "stdout",
     "output_type": "stream",
     "text": [
      "We chose the country MX at random for you!\n",
      "(0, 1, 4, 2, 3)\n",
      "Walking from node 0 to node 1 at a cost of 48365, path length is now: 48365\n",
      "Walking from node 1 to node 4 at a cost of 81824, path length is now: 130189\n",
      "Walking from node 4 to node 2 at a cost of 87294, path length is now: 217483\n",
      "Walking from node 2 to node 3 at a cost of 61778, path length is now: 279261\n",
      "Walking from node 3 to node 0 at a cost of 28436, path length is now: 307697\n",
      "\n"
     ]
    },
    {
     "data": {
      "application/vnd.jupyter.widget-view+json": {
       "model_id": "87bbaf36882f40af801c76e8d04e412b",
       "version_major": 2,
       "version_minor": 0
      },
      "text/plain": [
       "Figure(layout=FigureLayout(height='420px'))"
      ]
     },
     "metadata": {},
     "output_type": "display_data"
    }
   ],
   "source": [
    "get_random_sorted_itinerary(5,\"\",\"loop\")"
   ]
  },
  {
   "cell_type": "code",
   "execution_count": null,
   "metadata": {},
   "outputs": [],
   "source": []
  }
 ],
 "metadata": {
  "kernelspec": {
   "display_name": "PythonData",
   "language": "python",
   "name": "pythondata"
  },
  "language_info": {
   "codemirror_mode": {
    "name": "ipython",
    "version": 3
   },
   "file_extension": ".py",
   "mimetype": "text/x-python",
   "name": "python",
   "nbconvert_exporter": "python",
   "pygments_lexer": "ipython3",
   "version": "3.7.11"
  },
  "latex_envs": {
   "LaTeX_envs_menu_present": true,
   "autoclose": false,
   "autocomplete": true,
   "bibliofile": "biblio.bib",
   "cite_by": "apalike",
   "current_citInitial": 1,
   "eqLabelWithNumbers": true,
   "eqNumInitial": 1,
   "hotkeys": {
    "equation": "Ctrl-E",
    "itemize": "Ctrl-I"
   },
   "labels_anchors": false,
   "latex_user_defs": false,
   "report_style_numbering": false,
   "user_envs_cfg": false
  }
 },
 "nbformat": 4,
 "nbformat_minor": 2
}
