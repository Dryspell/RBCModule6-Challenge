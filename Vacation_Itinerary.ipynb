{
 "cells": [
  {
   "cell_type": "markdown",
   "metadata": {},
   "source": [
    "## Deliverable 3. Create a Travel Itinerary Map."
   ]
  },
  {
   "cell_type": "code",
   "execution_count": 1,
   "metadata": {},
   "outputs": [],
   "source": [
    "# Dependencies and Setup\n",
    "import pandas as pd\n",
    "import requests\n",
    "import gmaps\n",
    "\n",
    "# Import API key\n",
    "from config import g_key\n",
    "\n",
    "# Configure gmaps\n",
    "gmaps.configure(api_key=g_key)"
   ]
  },
  {
   "cell_type": "code",
   "execution_count": 2,
   "metadata": {
    "scrolled": true
   },
   "outputs": [
    {
     "data": {
      "text/html": [
       "<div>\n",
       "<style scoped>\n",
       "    .dataframe tbody tr th:only-of-type {\n",
       "        vertical-align: middle;\n",
       "    }\n",
       "\n",
       "    .dataframe tbody tr th {\n",
       "        vertical-align: top;\n",
       "    }\n",
       "\n",
       "    .dataframe thead th {\n",
       "        text-align: right;\n",
       "    }\n",
       "</style>\n",
       "<table border=\"1\" class=\"dataframe\">\n",
       "  <thead>\n",
       "    <tr style=\"text-align: right;\">\n",
       "      <th></th>\n",
       "      <th>City</th>\n",
       "      <th>Lat</th>\n",
       "      <th>Lng</th>\n",
       "      <th>Max Temp</th>\n",
       "      <th>Humidity</th>\n",
       "      <th>Cloudiness</th>\n",
       "      <th>Wind Speed</th>\n",
       "      <th>Country</th>\n",
       "      <th>Date</th>\n",
       "      <th>Hotel Name</th>\n",
       "      <th>Hotel Rating</th>\n",
       "    </tr>\n",
       "    <tr>\n",
       "      <th>City_ID</th>\n",
       "      <th></th>\n",
       "      <th></th>\n",
       "      <th></th>\n",
       "      <th></th>\n",
       "      <th></th>\n",
       "      <th></th>\n",
       "      <th></th>\n",
       "      <th></th>\n",
       "      <th></th>\n",
       "      <th></th>\n",
       "      <th></th>\n",
       "    </tr>\n",
       "  </thead>\n",
       "  <tbody>\n",
       "    <tr>\n",
       "      <th>0</th>\n",
       "      <td>Ixtapa</td>\n",
       "      <td>20.7000</td>\n",
       "      <td>-105.2000</td>\n",
       "      <td>75.22</td>\n",
       "      <td>89</td>\n",
       "      <td>100</td>\n",
       "      <td>5.01</td>\n",
       "      <td>MX</td>\n",
       "      <td>2022-01-19 23:50:07</td>\n",
       "      <td>Hotel Plaza Providencia</td>\n",
       "      <td>4.4</td>\n",
       "    </tr>\n",
       "    <tr>\n",
       "      <th>1</th>\n",
       "      <td>Karaton</td>\n",
       "      <td>-6.3424</td>\n",
       "      <td>106.1045</td>\n",
       "      <td>79.95</td>\n",
       "      <td>93</td>\n",
       "      <td>97</td>\n",
       "      <td>5.17</td>\n",
       "      <td>ID</td>\n",
       "      <td>2022-01-19 23:50:07</td>\n",
       "      <td>Parkir Mobil Wisata CAS Water Park</td>\n",
       "      <td>4.3</td>\n",
       "    </tr>\n",
       "    <tr>\n",
       "      <th>2</th>\n",
       "      <td>Ushuaia</td>\n",
       "      <td>-54.8000</td>\n",
       "      <td>-68.3000</td>\n",
       "      <td>53.26</td>\n",
       "      <td>58</td>\n",
       "      <td>0</td>\n",
       "      <td>17.27</td>\n",
       "      <td>AR</td>\n",
       "      <td>2022-01-19 23:45:13</td>\n",
       "      <td>Albatross Hotel</td>\n",
       "      <td>4.3</td>\n",
       "    </tr>\n",
       "    <tr>\n",
       "      <th>3</th>\n",
       "      <td>Busselton</td>\n",
       "      <td>-33.6500</td>\n",
       "      <td>115.3333</td>\n",
       "      <td>78.04</td>\n",
       "      <td>52</td>\n",
       "      <td>2</td>\n",
       "      <td>9.98</td>\n",
       "      <td>AU</td>\n",
       "      <td>2022-01-19 23:50:08</td>\n",
       "      <td>Observatory Guest House</td>\n",
       "      <td>4.5</td>\n",
       "    </tr>\n",
       "    <tr>\n",
       "      <th>4</th>\n",
       "      <td>Pacific Grove</td>\n",
       "      <td>36.6177</td>\n",
       "      <td>-121.9166</td>\n",
       "      <td>65.43</td>\n",
       "      <td>75</td>\n",
       "      <td>0</td>\n",
       "      <td>1.01</td>\n",
       "      <td>US</td>\n",
       "      <td>2022-01-19 23:50:08</td>\n",
       "      <td>Lovers Point Inn</td>\n",
       "      <td>3.7</td>\n",
       "    </tr>\n",
       "  </tbody>\n",
       "</table>\n",
       "</div>"
      ],
      "text/plain": [
       "                  City      Lat       Lng  Max Temp  Humidity  Cloudiness  \\\n",
       "City_ID                                                                     \n",
       "0               Ixtapa  20.7000 -105.2000     75.22        89         100   \n",
       "1              Karaton  -6.3424  106.1045     79.95        93          97   \n",
       "2              Ushuaia -54.8000  -68.3000     53.26        58           0   \n",
       "3            Busselton -33.6500  115.3333     78.04        52           2   \n",
       "4        Pacific Grove  36.6177 -121.9166     65.43        75           0   \n",
       "\n",
       "         Wind Speed Country                 Date  \\\n",
       "City_ID                                            \n",
       "0              5.01      MX  2022-01-19 23:50:07   \n",
       "1              5.17      ID  2022-01-19 23:50:07   \n",
       "2             17.27      AR  2022-01-19 23:45:13   \n",
       "3              9.98      AU  2022-01-19 23:50:08   \n",
       "4              1.01      US  2022-01-19 23:50:08   \n",
       "\n",
       "                                 Hotel Name  Hotel Rating  \n",
       "City_ID                                                    \n",
       "0                   Hotel Plaza Providencia           4.4  \n",
       "1        Parkir Mobil Wisata CAS Water Park           4.3  \n",
       "2                           Albatross Hotel           4.3  \n",
       "3                   Observatory Guest House           4.5  \n",
       "4                          Lovers Point Inn           3.7  "
      ]
     },
     "execution_count": 2,
     "metadata": {},
     "output_type": "execute_result"
    }
   ],
   "source": [
    "# 1. Read the WeatherPy_vacation.csv into a DataFrame.\n",
    "vacation_df = pd.read_csv(\"WeatherPy_vacation.csv\").set_index(\"City_ID\")\n",
    "vacation_df.drop(columns=\"City_ID.1\",inplace=True)\n",
    "vacation_df.head()"
   ]
  },
  {
   "cell_type": "code",
   "execution_count": 3,
   "metadata": {
    "scrolled": false
   },
   "outputs": [
    {
     "data": {
      "text/html": [
       "<div>\n",
       "<style scoped>\n",
       "    .dataframe tbody tr th:only-of-type {\n",
       "        vertical-align: middle;\n",
       "    }\n",
       "\n",
       "    .dataframe tbody tr th {\n",
       "        vertical-align: top;\n",
       "    }\n",
       "\n",
       "    .dataframe thead th {\n",
       "        text-align: right;\n",
       "    }\n",
       "</style>\n",
       "<table border=\"1\" class=\"dataframe\">\n",
       "  <thead>\n",
       "    <tr style=\"text-align: right;\">\n",
       "      <th></th>\n",
       "      <th>City</th>\n",
       "    </tr>\n",
       "    <tr>\n",
       "      <th>Country</th>\n",
       "      <th></th>\n",
       "    </tr>\n",
       "  </thead>\n",
       "  <tbody>\n",
       "    <tr>\n",
       "      <th>US</th>\n",
       "      <td>40</td>\n",
       "    </tr>\n",
       "    <tr>\n",
       "      <th>RU</th>\n",
       "      <td>31</td>\n",
       "    </tr>\n",
       "    <tr>\n",
       "      <th>BR</th>\n",
       "      <td>26</td>\n",
       "    </tr>\n",
       "    <tr>\n",
       "      <th>AU</th>\n",
       "      <td>23</td>\n",
       "    </tr>\n",
       "    <tr>\n",
       "      <th>ID</th>\n",
       "      <td>20</td>\n",
       "    </tr>\n",
       "  </tbody>\n",
       "</table>\n",
       "</div>"
      ],
      "text/plain": [
       "         City\n",
       "Country      \n",
       "US         40\n",
       "RU         31\n",
       "BR         26\n",
       "AU         23\n",
       "ID         20"
      ]
     },
     "execution_count": 3,
     "metadata": {},
     "output_type": "execute_result"
    }
   ],
   "source": [
    "country_counts_df = vacation_df.groupby('Country').count().sort_values('City', ascending = False)[['City']]\n",
    "country_counts_df.head()"
   ]
  },
  {
   "cell_type": "code",
   "execution_count": 4,
   "metadata": {},
   "outputs": [
    {
     "data": {
      "text/plain": [
       "4"
      ]
     },
     "execution_count": 4,
     "metadata": {},
     "output_type": "execute_result"
    }
   ],
   "source": [
    "def check_hotel_count(country):\n",
    "    return country_counts_df.loc[country,:].values[0]\n",
    "check_hotel_count('GA')"
   ]
  },
  {
   "cell_type": "code",
   "execution_count": 5,
   "metadata": {},
   "outputs": [],
   "source": [
    "# 2. Using the template add the city name, the country code, the weather description and maximum temperature for the city.\n",
    "info_box_template = \"\"\"\n",
    "<dl>\n",
    "<dt>Hotel Name</dt><dd>{Hotel Name}</dd>\n",
    "<dt>Rating</dt><dd>{Hotel Rating}</dd>\n",
    "<dt>City</dt><dd>{City}</dd>\n",
    "<dt>Country</dt><dd>{Country}</dd>\n",
    "<dt>Max Temp</dt><dd>{Max Temp} °F</dd>\n",
    "</dl>\n",
    "\"\"\"\n",
    "\n",
    "# 3a. Get the data from each row and add it to the formatting template and store the data in a list.\n",
    "hotel_info = [info_box_template.format(**row) for index, row in vacation_df.iterrows()]\n",
    "\n",
    "# 3b. Get the latitude and longitude from each row and store in a new DataFrame.\n",
    "locations = vacation_df[[\"Lat\", \"Lng\"]]"
   ]
  },
  {
   "cell_type": "code",
   "execution_count": 6,
   "metadata": {},
   "outputs": [
    {
     "data": {
      "application/vnd.jupyter.widget-view+json": {
       "model_id": "453de6ec4e5e413caef3574dba47242a",
       "version_major": 2,
       "version_minor": 0
      },
      "text/plain": [
       "Figure(layout=FigureLayout(height='420px'))"
      ]
     },
     "metadata": {},
     "output_type": "display_data"
    }
   ],
   "source": [
    "# 4a. Add a marker layer for each city to the map. \n",
    "locations = vacation_df[[\"Lat\", \"Lng\"]]\n",
    "max_temp = vacation_df[\"Max Temp\"]\n",
    "fig = gmaps.figure(center=(30.0, 31.0), zoom_level=1.5)\n",
    "heat_layer = gmaps.heatmap_layer(locations, weights=max_temp,dissipating=False,\n",
    "             max_intensity=300, point_radius=4)\n",
    "marker_layer = gmaps.marker_layer(locations, info_box_content=hotel_info)\n",
    "fig.add_layer(heat_layer)\n",
    "fig.add_layer(marker_layer)\n",
    "\n",
    "# 4b. Display the figure\n",
    "fig"
   ]
  },
  {
   "cell_type": "code",
   "execution_count": 31,
   "metadata": {},
   "outputs": [],
   "source": [
    "# From the map above pick 4 cities and create a vacation itinerary route to travel between the four cities. \n",
    "# 5. Create DataFrames for each city by filtering the 'vacation_df' using the loc method. \n",
    "# Hint: The starting and ending city should be the same city.\n",
    "import dataframe_image as dfi\n",
    "\n",
    "def get_random_itinerary(number, country):\n",
    "    if (country == \"\"):\n",
    "        #print(country_counts_df.loc[(country_counts_df['City_ID'] >= int(number))])\n",
    "        country = country_counts_df.loc[(country_counts_df['City'] >= int(number))].sample(1).index[0]\n",
    "        print(f\"We chose the country {country} at random for you!\")\n",
    "    \n",
    "    if (country != \"\"):\n",
    "        hotel_count = check_hotel_count(country)\n",
    "        if (hotel_count >= number):\n",
    "            temp = vacation_df.loc[(vacation_df['Country']==country)]\n",
    "            #print(temp)\n",
    "            itinerary_df = temp.sample(number)\n",
    "            dfi.export(itinerary_df, \"{country}_random_itinerary.png\")\n",
    "            return itinerary_df\n",
    "            \n",
    "        else:\n",
    "            user_input = input(f\"Sorry, we only found {hotel_count} Hotels in {country}, (y) to continue with this country, otherwise to exit\")\n",
    "            if (user_input == \"y\"):\n",
    "                get_random_itinerary(hotel_count, country)\n",
    "                return\n",
    "            else:\n",
    "                return      "
   ]
  },
  {
   "cell_type": "code",
   "execution_count": 29,
   "metadata": {},
   "outputs": [
    {
     "name": "stdout",
     "output_type": "stream",
     "text": [
      "We chose the country CD at random for you!\n"
     ]
    },
    {
     "data": {
      "text/html": [
       "<div>\n",
       "<style scoped>\n",
       "    .dataframe tbody tr th:only-of-type {\n",
       "        vertical-align: middle;\n",
       "    }\n",
       "\n",
       "    .dataframe tbody tr th {\n",
       "        vertical-align: top;\n",
       "    }\n",
       "\n",
       "    .dataframe thead th {\n",
       "        text-align: right;\n",
       "    }\n",
       "</style>\n",
       "<table border=\"1\" class=\"dataframe\">\n",
       "  <thead>\n",
       "    <tr style=\"text-align: right;\">\n",
       "      <th></th>\n",
       "      <th>City</th>\n",
       "      <th>Lat</th>\n",
       "      <th>Lng</th>\n",
       "      <th>Max Temp</th>\n",
       "      <th>Humidity</th>\n",
       "      <th>Cloudiness</th>\n",
       "      <th>Wind Speed</th>\n",
       "      <th>Country</th>\n",
       "      <th>Date</th>\n",
       "      <th>Hotel Name</th>\n",
       "      <th>Hotel Rating</th>\n",
       "    </tr>\n",
       "    <tr>\n",
       "      <th>City_ID</th>\n",
       "      <th></th>\n",
       "      <th></th>\n",
       "      <th></th>\n",
       "      <th></th>\n",
       "      <th></th>\n",
       "      <th></th>\n",
       "      <th></th>\n",
       "      <th></th>\n",
       "      <th></th>\n",
       "      <th></th>\n",
       "      <th></th>\n",
       "    </tr>\n",
       "  </thead>\n",
       "  <tbody>\n",
       "    <tr>\n",
       "      <th>535</th>\n",
       "      <td>Mbandaka</td>\n",
       "      <td>0.0487</td>\n",
       "      <td>18.2603</td>\n",
       "      <td>71.96</td>\n",
       "      <td>63</td>\n",
       "      <td>100</td>\n",
       "      <td>2.10</td>\n",
       "      <td>CD</td>\n",
       "      <td>2022-01-20 00:03:14</td>\n",
       "      <td>Guest House Epervier</td>\n",
       "      <td>5.0</td>\n",
       "    </tr>\n",
       "    <tr>\n",
       "      <th>111</th>\n",
       "      <td>Bosobolo</td>\n",
       "      <td>4.1833</td>\n",
       "      <td>19.9000</td>\n",
       "      <td>77.52</td>\n",
       "      <td>47</td>\n",
       "      <td>79</td>\n",
       "      <td>1.99</td>\n",
       "      <td>CD</td>\n",
       "      <td>2022-01-19 23:52:35</td>\n",
       "      <td>NaN</td>\n",
       "      <td>NaN</td>\n",
       "    </tr>\n",
       "    <tr>\n",
       "      <th>406</th>\n",
       "      <td>Kikwit</td>\n",
       "      <td>-5.0410</td>\n",
       "      <td>18.8162</td>\n",
       "      <td>69.26</td>\n",
       "      <td>96</td>\n",
       "      <td>100</td>\n",
       "      <td>0.94</td>\n",
       "      <td>CD</td>\n",
       "      <td>2022-01-19 23:59:44</td>\n",
       "      <td>HOTEL PLACE YALABA</td>\n",
       "      <td>NaN</td>\n",
       "    </tr>\n",
       "    <tr>\n",
       "      <th>688</th>\n",
       "      <td>Gemena</td>\n",
       "      <td>3.2500</td>\n",
       "      <td>19.7667</td>\n",
       "      <td>71.92</td>\n",
       "      <td>42</td>\n",
       "      <td>99</td>\n",
       "      <td>1.63</td>\n",
       "      <td>CD</td>\n",
       "      <td>2022-01-20 00:06:49</td>\n",
       "      <td>Hôtel Goshen</td>\n",
       "      <td>2.0</td>\n",
       "    </tr>\n",
       "  </tbody>\n",
       "</table>\n",
       "</div>"
      ],
      "text/plain": [
       "             City     Lat      Lng  Max Temp  Humidity  Cloudiness  \\\n",
       "City_ID                                                              \n",
       "535      Mbandaka  0.0487  18.2603     71.96        63         100   \n",
       "111      Bosobolo  4.1833  19.9000     77.52        47          79   \n",
       "406        Kikwit -5.0410  18.8162     69.26        96         100   \n",
       "688        Gemena  3.2500  19.7667     71.92        42          99   \n",
       "\n",
       "         Wind Speed Country                 Date            Hotel Name  \\\n",
       "City_ID                                                                  \n",
       "535            2.10      CD  2022-01-20 00:03:14  Guest House Epervier   \n",
       "111            1.99      CD  2022-01-19 23:52:35                   NaN   \n",
       "406            0.94      CD  2022-01-19 23:59:44    HOTEL PLACE YALABA   \n",
       "688            1.63      CD  2022-01-20 00:06:49          Hôtel Goshen   \n",
       "\n",
       "         Hotel Rating  \n",
       "City_ID                \n",
       "535               5.0  \n",
       "111               NaN  \n",
       "406               NaN  \n",
       "688               2.0  "
      ]
     },
     "execution_count": 29,
     "metadata": {},
     "output_type": "execute_result"
    }
   ],
   "source": [
    "# From the map above pick 4 cities and create a vacation itinerary route to travel between the four cities. \n",
    "# 5. Create DataFrames for each city by filtering the 'vacation_df' using the loc method. \n",
    "# Hint: The starting and ending city should be the same city.\n",
    "vacation = get_random_itinerary(4,\"\")\n",
    "\n",
    "vacation_start = vacation_df.iloc[0,:]\n",
    "vacation_end = vacation_df.iloc[0,:]\n",
    "vacation_stop1 = vacation_df.iloc[1,:]\n",
    "vacation_stop2 = vacation_df.iloc[2,:]\n",
    "vacation_stop3 = vacation_df.iloc[3,:]\n",
    "\n",
    "vacation"
   ]
  },
  {
   "cell_type": "code",
   "execution_count": 8,
   "metadata": {},
   "outputs": [
    {
     "name": "stdout",
     "output_type": "stream",
     "text": [
      "We chose the country NO at random for you!\n"
     ]
    },
    {
     "data": {
      "text/plain": [
       "array([[63.7256,  8.834 ],\n",
       "       [61.9875,  5.1352],\n",
       "       [67.667 , 12.6934],\n",
       "       [70.8578, 29.0864]])"
      ]
     },
     "execution_count": 8,
     "metadata": {},
     "output_type": "execute_result"
    }
   ],
   "source": [
    "# 6. Get the latitude-longitude pairs as tuples from each city DataFrame using the to_numpy function and list indexing.\n",
    "def get_lat_lng(df):\n",
    "    return df[['Lat','Lng']].to_numpy()\n",
    "get_lat_lng(get_random_itinerary(4,\"\"))"
   ]
  },
  {
   "cell_type": "code",
   "execution_count": 9,
   "metadata": {
    "scrolled": true
   },
   "outputs": [],
   "source": [
    "# 7. Create a direction layer map using the start and end latitude-longitude pairs,\n",
    "# and stop1, stop2, and stop3 as the waypoints. The travel_mode should be \"DRIVING\", \"BICYCLING\", or \"WALKING\".\n",
    "import gmaps.datasets\n",
    "\n",
    "def create_directions_layer(coords, style):\n",
    "    fig = gmaps.figure()\n",
    "    \n",
    "    start = coords[0]\n",
    "    \n",
    "    if style != \"one-way\":\n",
    "        style = \"loop\"\n",
    "        end = start\n",
    "        my_directions_layer = gmaps.directions_layer(start,end, waypoints=coords[1:], travel_mode='DRIVING', show_markers=False)\n",
    "    else:\n",
    "        end = coords[-1]\n",
    "        my_directions_layer = gmaps.directions_layer(start, end, waypoints=coords[1:-1], travel_mode='DRIVING', show_markers=False)\n",
    "    \n",
    "    return my_directions_layer"
   ]
  },
  {
   "cell_type": "code",
   "execution_count": 10,
   "metadata": {},
   "outputs": [],
   "source": [
    "# 9 Using the template add city name, the country code, the weather description and maximum temperature for the city. \n",
    "def format_df_markers(df):\n",
    "    info_box_template = \"\"\"\n",
    "    <dl>\n",
    "    <dt>Hotel Name</dt><dd>{Hotel Name}</dd>\n",
    "    <dt>Rating</dt><dd>{Hotel Rating}</dd>\n",
    "    <dt>City</dt><dd>{City}</dd>\n",
    "    <dt>Country</dt><dd>{Country}</dd>\n",
    "    <dt>Max Temp</dt><dd>{Max Temp} °F</dd>\n",
    "    </dl>\n",
    "    \"\"\"\n",
    "\n",
    "    # 10a Get the data from each row and add it to the formatting template and store the data in a list.\n",
    "    formatted_data = [info_box_template.format(**row) for index, row in df.iterrows()]\n",
    "    return formatted_data\n",
    "\n",
    "    # 10b. Get the latitude and longitude from each row and store in a new DataFrame.\n",
    "def draw_itinerary(df,style):\n",
    "    locations = df[[\"Lat\", \"Lng\"]]\n",
    "    \n",
    "    hotel_info = format_df_markers(df)\n",
    "    \n",
    "    # 11a. Add a marker layer for each city to the map.\n",
    "    max_temp = df[\"Max Temp\"]\n",
    "    fig = gmaps.figure()\n",
    "    directions_layer = create_directions_layer(get_lat_lng(df),style)\n",
    "    marker_layer = gmaps.marker_layer(locations, info_box_content=hotel_info)\n",
    "    heat_layer = gmaps.heatmap_layer(locations, weights=max_temp,dissipating=False,\n",
    "                 max_intensity=300, point_radius=4)\n",
    "    fig.add_layer(directions_layer)\n",
    "    fig.add_layer(heat_layer)\n",
    "    fig.add_layer(marker_layer)    \n",
    "    \n",
    "# 11b. Display the figure\n",
    "    return fig"
   ]
  },
  {
   "cell_type": "code",
   "execution_count": 11,
   "metadata": {},
   "outputs": [
    {
     "name": "stdout",
     "output_type": "stream",
     "text": [
      "We chose the country CL at random for you!\n"
     ]
    },
    {
     "data": {
      "text/html": [
       "<div>\n",
       "<style scoped>\n",
       "    .dataframe tbody tr th:only-of-type {\n",
       "        vertical-align: middle;\n",
       "    }\n",
       "\n",
       "    .dataframe tbody tr th {\n",
       "        vertical-align: top;\n",
       "    }\n",
       "\n",
       "    .dataframe thead th {\n",
       "        text-align: right;\n",
       "    }\n",
       "</style>\n",
       "<table border=\"1\" class=\"dataframe\">\n",
       "  <thead>\n",
       "    <tr style=\"text-align: right;\">\n",
       "      <th></th>\n",
       "      <th>City</th>\n",
       "      <th>Lat</th>\n",
       "      <th>Lng</th>\n",
       "      <th>Max Temp</th>\n",
       "      <th>Humidity</th>\n",
       "      <th>Cloudiness</th>\n",
       "      <th>Wind Speed</th>\n",
       "      <th>Country</th>\n",
       "      <th>Date</th>\n",
       "      <th>Hotel Name</th>\n",
       "      <th>Hotel Rating</th>\n",
       "    </tr>\n",
       "    <tr>\n",
       "      <th>City_ID</th>\n",
       "      <th></th>\n",
       "      <th></th>\n",
       "      <th></th>\n",
       "      <th></th>\n",
       "      <th></th>\n",
       "      <th></th>\n",
       "      <th></th>\n",
       "      <th></th>\n",
       "      <th></th>\n",
       "      <th></th>\n",
       "      <th></th>\n",
       "    </tr>\n",
       "  </thead>\n",
       "  <tbody>\n",
       "    <tr>\n",
       "      <th>459</th>\n",
       "      <td>Ancud</td>\n",
       "      <td>-41.8697</td>\n",
       "      <td>-73.8203</td>\n",
       "      <td>66.22</td>\n",
       "      <td>79</td>\n",
       "      <td>26</td>\n",
       "      <td>12.73</td>\n",
       "      <td>CL</td>\n",
       "      <td>2022-01-20 00:00:57</td>\n",
       "      <td>Hotel Arena Gruesa</td>\n",
       "      <td>4.1</td>\n",
       "    </tr>\n",
       "    <tr>\n",
       "      <th>172</th>\n",
       "      <td>Castro</td>\n",
       "      <td>-42.4721</td>\n",
       "      <td>-73.7732</td>\n",
       "      <td>69.28</td>\n",
       "      <td>49</td>\n",
       "      <td>0</td>\n",
       "      <td>6.91</td>\n",
       "      <td>CL</td>\n",
       "      <td>2022-01-19 23:53:49</td>\n",
       "      <td>Hotel Esmeralda</td>\n",
       "      <td>4.3</td>\n",
       "    </tr>\n",
       "    <tr>\n",
       "      <th>203</th>\n",
       "      <td>Coquimbo</td>\n",
       "      <td>-29.9533</td>\n",
       "      <td>-71.3436</td>\n",
       "      <td>65.93</td>\n",
       "      <td>63</td>\n",
       "      <td>0</td>\n",
       "      <td>10.36</td>\n",
       "      <td>CL</td>\n",
       "      <td>2022-01-19 23:53:41</td>\n",
       "      <td>Hostel Del Puerto</td>\n",
       "      <td>4.3</td>\n",
       "    </tr>\n",
       "    <tr>\n",
       "      <th>98</th>\n",
       "      <td>Copiapó</td>\n",
       "      <td>-27.3667</td>\n",
       "      <td>-70.3333</td>\n",
       "      <td>64.09</td>\n",
       "      <td>53</td>\n",
       "      <td>0</td>\n",
       "      <td>5.23</td>\n",
       "      <td>CL</td>\n",
       "      <td>2022-01-19 23:52:31</td>\n",
       "      <td>San Francisco de La Selva</td>\n",
       "      <td>4.0</td>\n",
       "    </tr>\n",
       "  </tbody>\n",
       "</table>\n",
       "</div>"
      ],
      "text/plain": [
       "             City      Lat      Lng  Max Temp  Humidity  Cloudiness  \\\n",
       "City_ID                                                               \n",
       "459         Ancud -41.8697 -73.8203     66.22        79          26   \n",
       "172        Castro -42.4721 -73.7732     69.28        49           0   \n",
       "203      Coquimbo -29.9533 -71.3436     65.93        63           0   \n",
       "98        Copiapó -27.3667 -70.3333     64.09        53           0   \n",
       "\n",
       "         Wind Speed Country                 Date                 Hotel Name  \\\n",
       "City_ID                                                                       \n",
       "459           12.73      CL  2022-01-20 00:00:57         Hotel Arena Gruesa   \n",
       "172            6.91      CL  2022-01-19 23:53:49            Hotel Esmeralda   \n",
       "203           10.36      CL  2022-01-19 23:53:41          Hostel Del Puerto   \n",
       "98             5.23      CL  2022-01-19 23:52:31  San Francisco de La Selva   \n",
       "\n",
       "         Hotel Rating  \n",
       "City_ID                \n",
       "459               4.1  \n",
       "172               4.3  \n",
       "203               4.3  \n",
       "98                4.0  "
      ]
     },
     "execution_count": 11,
     "metadata": {},
     "output_type": "execute_result"
    }
   ],
   "source": [
    "get_random_itinerary(4,\"\")"
   ]
  },
  {
   "cell_type": "code",
   "execution_count": 12,
   "metadata": {
    "scrolled": true
   },
   "outputs": [
    {
     "name": "stdout",
     "output_type": "stream",
     "text": [
      "We chose the country NE at random for you!\n"
     ]
    },
    {
     "data": {
      "application/vnd.jupyter.widget-view+json": {
       "model_id": "cbc63a6f740e41e28ed31ad6b5999f43",
       "version_major": 2,
       "version_minor": 0
      },
      "text/plain": [
       "Figure(layout=FigureLayout(height='420px'))"
      ]
     },
     "metadata": {},
     "output_type": "display_data"
    }
   ],
   "source": [
    "draw_itinerary(get_random_itinerary(4,\"\"),\"one-way\")"
   ]
  },
  {
   "cell_type": "code",
   "execution_count": 20,
   "metadata": {},
   "outputs": [
    {
     "data": {
      "application/vnd.jupyter.widget-view+json": {
       "model_id": "05c0d52b2c69402cbf3034e0995e73a6",
       "version_major": 2,
       "version_minor": 0
      },
      "text/plain": [
       "Figure(layout=FigureLayout(height='420px'))"
      ]
     },
     "metadata": {},
     "output_type": "display_data"
    }
   ],
   "source": [
    "draw_itinerary(get_random_itinerary(6,\"US\"),\"loop\")"
   ]
  },
  {
   "cell_type": "code",
   "execution_count": 14,
   "metadata": {},
   "outputs": [],
   "source": [
    "import googlemaps\n",
    "import simplejson\n",
    "import json\n",
    "import numpy as np\n",
    "\n",
    "gdistance = googlemaps.Client(key = g_key)\n",
    "\n",
    "def get_distance_matrix(coords):\n",
    "    durations = []\n",
    "    result = gdistance.distance_matrix(coords,coords, mode='driving')\n",
    "    \n",
    "    #print(json.dumps(result, indent = 4))\n",
    "    \n",
    "    df = pd.DataFrame(index=result['origin_addresses'],\n",
    "                      columns=result['destination_addresses'])\n",
    "    \n",
    "    for i in range(len(coords)):\n",
    "        for j in range(len(coords)):\n",
    "            try:\n",
    "                #This is the duration of the travel time in seconds. Divide by 3600 for H:M:S\n",
    "                df.iloc[i,j] = result[\"rows\"][i][\"elements\"][j][\"duration\"][\"value\"]\n",
    "            except (KeyError):\n",
    "                df.iloc[i,j] = np.nan    \n",
    "    return df\n",
    "    \n",
    "    #result = gdistance.distance_matrix(origin, destination, mode='driving')[\"rows\"][0][\"elements\"][0][\"duration\"][\"value\"]  \n",
    "    #duration = duration/3600\n",
    "    #durations.append(duration)\n",
    "    \n",
    "    #return durations"
   ]
  },
  {
   "cell_type": "code",
   "execution_count": 15,
   "metadata": {},
   "outputs": [
    {
     "name": "stdout",
     "output_type": "stream",
     "text": [
      "(0, 1, 3, 2)\n",
      "Walking from node 0 to node 1 at a cost of 10, path length is now: 10\n",
      "Walking from node 1 to node 3 at a cost of 25, path length is now: 35\n",
      "Walking from node 3 to node 2 at a cost of 30, path length is now: 65\n",
      "\n"
     ]
    },
    {
     "data": {
      "text/plain": [
       "[(0, 1, 3, 2), 65]"
      ]
     },
     "execution_count": 15,
     "metadata": {},
     "output_type": "execute_result"
    }
   ],
   "source": [
    "from sys import maxsize\n",
    "from itertools import permutations\n",
    " \n",
    "# implementation of traveling Salesman Problem\n",
    "def travellingSalesmanProblem(graph, start, style):\n",
    "    if start == \"\":\n",
    "        start = 0\n",
    "        \n",
    "    # store minimum weight Hamiltonian Cycle\n",
    "    min_path = maxsize\n",
    "    path_length = 0\n",
    "    best_walk = \"\"\n",
    "    short_path = ()\n",
    "    \n",
    "    for perm in permutations(range(len(graph))):\n",
    "        if perm[0] != start:\n",
    "            continue\n",
    "        log=\"\"\n",
    "        path_length = 0\n",
    "        log +=f\"{perm}\\n\"\n",
    "        for i in perm:\n",
    "            if i != perm[-1]:\n",
    "                path_length += graph[i][perm[perm.index(i)+1]]\n",
    "                log += f\"Walking from node {i} to node {perm[perm.index(i)+1]} at a cost of {graph[i][perm[perm.index(i)+1]]}, path length is now: {path_length}\\n\"\n",
    "            elif (style == \"loop\"):\n",
    "                path_length += graph[i][perm[0]]\n",
    "                log += f\"Walking from node {i} to node {perm[0]} at a cost of {graph[i][perm[0]]}, path length is now: {path_length}\\n\"\n",
    "        # print(log)\n",
    "        if path_length < min_path:\n",
    "            min_path = path_length\n",
    "            short_path = perm\n",
    "            best_walk = log\n",
    "    print(f\"{best_walk}\")\n",
    "    return [short_path,min_path]\n",
    "\n",
    "# matrix representation of graph\n",
    "graph = [[0, 10, 15, 20], [10, 0, 35, 25],\n",
    "        [15, 35, 0, 30], [20, 25, 30, 0]]\n",
    "travellingSalesmanProblem(graph,\"\",\"\")"
   ]
  },
  {
   "cell_type": "code",
   "execution_count": 16,
   "metadata": {},
   "outputs": [
    {
     "data": {
      "text/plain": [
       "dict_keys(['taxi_rides', 'earthquakes', 'acled_africa', 'acled_africa_by_year', 'london_congestion_zone', 'nuclear_plants', 'starbucks_kfc_uk', 'gini'])"
      ]
     },
     "execution_count": 16,
     "metadata": {},
     "output_type": "execute_result"
    }
   ],
   "source": [
    "#Here are other datasets easily available from gmaps\n",
    "gmaps.datasets.list_datasets()"
   ]
  },
  {
   "cell_type": "code",
   "execution_count": 17,
   "metadata": {},
   "outputs": [],
   "source": [
    "def get_random_sorted_itinerary(number, country, style):\n",
    "    itinerary = get_random_itinerary(number,country)\n",
    "    #print(itinerary)\n",
    "    new_order = list(travellingSalesmanProblem(get_distance_matrix(get_lat_lng(itinerary)).values,\"\",style)[0])\n",
    "    #print(new_order)\n",
    "    sorted_itinerary = itinerary.copy()\n",
    "    for i in range(len(itinerary)):\n",
    "        sorted_itinerary.iloc[i,:] = itinerary.iloc[new_order[i],:]\n",
    "    #print(sorted_itinerary)\n",
    "    #return sorted_itinerary\n",
    "    return draw_itinerary(itinerary,style);"
   ]
  },
  {
   "cell_type": "code",
   "execution_count": 24,
   "metadata": {
    "scrolled": false
   },
   "outputs": [
    {
     "name": "stdout",
     "output_type": "stream",
     "text": [
      "(0, 3, 1, 4, 2)\n",
      "Walking from node 0 to node 3 at a cost of 24331, path length is now: 24331\n",
      "Walking from node 3 to node 1 at a cost of 126438, path length is now: 150769\n",
      "Walking from node 1 to node 4 at a cost of 60222, path length is now: 210991\n",
      "Walking from node 4 to node 2 at a cost of 79417, path length is now: 290408\n",
      "Walking from node 2 to node 0 at a cost of 48088, path length is now: 338496\n",
      "\n"
     ]
    },
    {
     "data": {
      "application/vnd.jupyter.widget-view+json": {
       "model_id": "c82a45b3c1c842e99d6021326c302f43",
       "version_major": 2,
       "version_minor": 0
      },
      "text/plain": [
       "Figure(layout=FigureLayout(height='420px'))"
      ]
     },
     "metadata": {},
     "output_type": "display_data"
    }
   ],
   "source": [
    "get_random_sorted_itinerary(5,\"\",\"loop\")"
   ]
  }
 ],
 "metadata": {
  "kernelspec": {
   "display_name": "PythonData",
   "language": "python",
   "name": "pythondata"
  },
  "language_info": {
   "codemirror_mode": {
    "name": "ipython",
    "version": 3
   },
   "file_extension": ".py",
   "mimetype": "text/x-python",
   "name": "python",
   "nbconvert_exporter": "python",
   "pygments_lexer": "ipython3",
   "version": "3.7.11"
  },
  "latex_envs": {
   "LaTeX_envs_menu_present": true,
   "autoclose": false,
   "autocomplete": true,
   "bibliofile": "biblio.bib",
   "cite_by": "apalike",
   "current_citInitial": 1,
   "eqLabelWithNumbers": true,
   "eqNumInitial": 1,
   "hotkeys": {
    "equation": "Ctrl-E",
    "itemize": "Ctrl-I"
   },
   "labels_anchors": false,
   "latex_user_defs": false,
   "report_style_numbering": false,
   "user_envs_cfg": false
  }
 },
 "nbformat": 4,
 "nbformat_minor": 2
}
